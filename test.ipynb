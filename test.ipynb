{
 "cells": [
  {
   "cell_type": "code",
   "execution_count": 17,
   "metadata": {},
   "outputs": [
    {
     "name": "stdout",
     "output_type": "stream",
     "text": [
      "tensor([[4.9099e-07, 4.6011e-07, 4.6140e-07,  ..., 2.7668e-06, 3.8861e-07,\n",
      "         2.5493e-07],\n",
      "        [7.3127e-05, 6.5906e-05, 3.6048e-05,  ..., 1.2198e-04, 6.3748e-05,\n",
      "         3.7799e-05],\n",
      "        [8.2179e-01, 7.9323e-01, 8.6415e-01,  ..., 6.9248e-01, 8.0374e-01,\n",
      "         8.2821e-01],\n",
      "        ...,\n",
      "        [8.7176e-01, 8.6801e-01, 8.8309e-01,  ..., 8.1167e-01, 8.9136e-01,\n",
      "         8.6565e-01],\n",
      "        [9.9983e-01, 9.9984e-01, 9.9984e-01,  ..., 9.9947e-01, 9.9986e-01,\n",
      "         9.9984e-01],\n",
      "        [5.3968e-04, 5.3504e-04, 1.3472e-04,  ..., 7.6030e-04, 3.6828e-04,\n",
      "         2.8435e-04]], device='cuda:0', requires_grad=True)\n"
     ]
    }
   ],
   "source": [
    "import torch\n",
    "import pickle\n",
    "import numpy as np\n",
    "new_features =torch.load(open(f'/home/lcw/project/GAug-3-25/new_features.pkl', 'rb'))\n",
    "print(new_features)"
   ]
  },
  {
   "cell_type": "code",
   "execution_count": 20,
   "metadata": {},
   "outputs": [],
   "source": [
    "a = new_features.cpu().detach().numpy()\n",
    "b = np.where(a>0.5,a,0)"
   ]
  },
  {
   "cell_type": "code",
   "execution_count": 21,
   "metadata": {},
   "outputs": [
    {
     "name": "stdout",
     "output_type": "stream",
     "text": [
      "[[0.         0.         0.         ... 0.         0.         0.        ]\n",
      " [0.         0.         0.         ... 0.         0.         0.        ]\n",
      " [0.8217883  0.7932314  0.86415356 ... 0.69247556 0.8037445  0.8282082 ]\n",
      " ...\n",
      " [0.8717564  0.86800987 0.88308537 ... 0.81167    0.89135826 0.86564666]\n",
      " [0.9998294  0.99984    0.99983704 ... 0.99946696 0.9998617  0.9998443 ]\n",
      " [0.         0.         0.         ... 0.         0.         0.        ]]\n"
     ]
    }
   ],
   "source": [
    "print(b)"
   ]
  },
  {
   "cell_type": "code",
   "execution_count": null,
   "metadata": {},
   "outputs": [],
   "source": []
  }
 ],
 "metadata": {
  "interpreter": {
   "hash": "91b07bcc9209c90894d6aae00f19c54e918f5f1b92e91b26934eb531b3d73d90"
  },
  "kernelspec": {
   "display_name": "Python 3.9.7 ('pytorchenv')",
   "language": "python",
   "name": "python3"
  },
  "language_info": {
   "codemirror_mode": {
    "name": "ipython",
    "version": 3
   },
   "file_extension": ".py",
   "mimetype": "text/x-python",
   "name": "python",
   "nbconvert_exporter": "python",
   "pygments_lexer": "ipython3",
   "version": "3.9.7"
  },
  "orig_nbformat": 4
 },
 "nbformat": 4,
 "nbformat_minor": 2
}
